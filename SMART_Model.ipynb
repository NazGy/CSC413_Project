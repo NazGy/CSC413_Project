{
  "nbformat": 4,
  "nbformat_minor": 0,
  "metadata": {
    "colab": {
      "name": "SMART Model.ipynb",
      "provenance": [],
      "collapsed_sections": []
    },
    "kernelspec": {
      "name": "python3",
      "display_name": "Python 3"
    },
    "language_info": {
      "name": "python"
    },
    "accelerator": "GPU"
  },
  "cells": [
    {
      "cell_type": "code",
      "metadata": {
        "id": "bLROUkxJVNvL"
      },
      "source": [
        "# Reference: \n",
        "# https://github.com/SenYan1999/SMART\n",
        "# https://github.com/namisan/mt-dnn\n",
        "# https://github.com/yaodongyu/TRADES"
      ],
      "execution_count": null,
      "outputs": []
    },
    {
      "cell_type": "code",
      "metadata": {
        "id": "A4MW5_9ir2LN",
        "colab": {
          "base_uri": "https://localhost:8080/"
        },
        "outputId": "dfe06662-d109-4778-f280-3325e7780949"
      },
      "source": [
        "pip install transformers"
      ],
      "execution_count": null,
      "outputs": [
        {
          "output_type": "stream",
          "text": [
            "Requirement already satisfied: transformers in /usr/local/lib/python3.7/dist-packages (4.5.1)\n",
            "Requirement already satisfied: numpy>=1.17 in /usr/local/lib/python3.7/dist-packages (from transformers) (1.19.5)\n",
            "Requirement already satisfied: regex!=2019.12.17 in /usr/local/lib/python3.7/dist-packages (from transformers) (2019.12.20)\n",
            "Requirement already satisfied: packaging in /usr/local/lib/python3.7/dist-packages (from transformers) (20.9)\n",
            "Requirement already satisfied: tokenizers<0.11,>=0.10.1 in /usr/local/lib/python3.7/dist-packages (from transformers) (0.10.2)\n",
            "Requirement already satisfied: filelock in /usr/local/lib/python3.7/dist-packages (from transformers) (3.0.12)\n",
            "Requirement already satisfied: sacremoses in /usr/local/lib/python3.7/dist-packages (from transformers) (0.0.45)\n",
            "Requirement already satisfied: importlib-metadata; python_version < \"3.8\" in /usr/local/lib/python3.7/dist-packages (from transformers) (3.10.1)\n",
            "Requirement already satisfied: requests in /usr/local/lib/python3.7/dist-packages (from transformers) (2.23.0)\n",
            "Requirement already satisfied: tqdm>=4.27 in /usr/local/lib/python3.7/dist-packages (from transformers) (4.41.1)\n",
            "Requirement already satisfied: pyparsing>=2.0.2 in /usr/local/lib/python3.7/dist-packages (from packaging->transformers) (2.4.7)\n",
            "Requirement already satisfied: six in /usr/local/lib/python3.7/dist-packages (from sacremoses->transformers) (1.15.0)\n",
            "Requirement already satisfied: click in /usr/local/lib/python3.7/dist-packages (from sacremoses->transformers) (7.1.2)\n",
            "Requirement already satisfied: joblib in /usr/local/lib/python3.7/dist-packages (from sacremoses->transformers) (1.0.1)\n",
            "Requirement already satisfied: zipp>=0.5 in /usr/local/lib/python3.7/dist-packages (from importlib-metadata; python_version < \"3.8\"->transformers) (3.4.1)\n",
            "Requirement already satisfied: typing-extensions>=3.6.4; python_version < \"3.8\" in /usr/local/lib/python3.7/dist-packages (from importlib-metadata; python_version < \"3.8\"->transformers) (3.7.4.3)\n",
            "Requirement already satisfied: chardet<4,>=3.0.2 in /usr/local/lib/python3.7/dist-packages (from requests->transformers) (3.0.4)\n",
            "Requirement already satisfied: idna<3,>=2.5 in /usr/local/lib/python3.7/dist-packages (from requests->transformers) (2.10)\n",
            "Requirement already satisfied: urllib3!=1.25.0,!=1.25.1,<1.26,>=1.21.1 in /usr/local/lib/python3.7/dist-packages (from requests->transformers) (1.24.3)\n",
            "Requirement already satisfied: certifi>=2017.4.17 in /usr/local/lib/python3.7/dist-packages (from requests->transformers) (2020.12.5)\n"
          ],
          "name": "stdout"
        }
      ]
    },
    {
      "cell_type": "code",
      "metadata": {
        "id": "tIk3ZzLVtCTS",
        "colab": {
          "base_uri": "https://localhost:8080/"
        },
        "outputId": "27bbc739-1698-4b3c-dc14-52e8f6fe0f75"
      },
      "source": [
        "from google.colab import drive\n",
        "\n",
        "drive.mount('/content/gdrive')\n",
        "\n",
        "URL = '/content/gdrive/MyDrive/CSC413/'"
      ],
      "execution_count": null,
      "outputs": [
        {
          "output_type": "stream",
          "text": [
            "Drive already mounted at /content/gdrive; to attempt to forcibly remount, call drive.mount(\"/content/gdrive\", force_remount=True).\n"
          ],
          "name": "stdout"
        }
      ]
    },
    {
      "cell_type": "code",
      "metadata": {
        "id": "J15g3D8ls4Ec"
      },
      "source": [
        "import tensorflow as tf\n",
        "import pandas as pd\n",
        "import numpy as np\n",
        "import torch\n",
        "from torch import nn, optim\n",
        "from torch.utils.data import Dataset, DataLoader\n",
        "from sklearn.model_selection import train_test_split\n",
        "import torch.nn.functional as F\n",
        "from torch.autograd import Variable\n",
        "import matplotlib.pyplot as plt"
      ],
      "execution_count": null,
      "outputs": []
    },
    {
      "cell_type": "code",
      "metadata": {
        "id": "gAuG_haXr29b"
      },
      "source": [
        "from transformers import BertTokenizer, TFBertForSequenceClassification, BertModel, get_linear_schedule_with_warmup\n",
        "from transformers import InputExample, InputFeatures\n",
        "\n",
        "bert_model = BertModel.from_pretrained(\"bert-base-uncased\", return_dict=False)\n",
        "tokenizer = BertTokenizer.from_pretrained(\"bert-base-uncased\")"
      ],
      "execution_count": null,
      "outputs": []
    },
    {
      "cell_type": "code",
      "metadata": {
        "id": "vW0hN1DNEWYL"
      },
      "source": [
        "RANDOM_SEED = 42\n",
        "np.random.seed(RANDOM_SEED)"
      ],
      "execution_count": null,
      "outputs": []
    },
    {
      "cell_type": "code",
      "metadata": {
        "id": "wLP_N56ss64Y"
      },
      "source": [
        "# train = pd.read_csv(URL + 'training.1600000.processed.noemoticon.csv',  encoding = \"ISO-8859-1\")"
      ],
      "execution_count": null,
      "outputs": []
    },
    {
      "cell_type": "code",
      "metadata": {
        "id": "UG63RL1AupoQ"
      },
      "source": [
        "# # Create a smaller train set for debugging purposes\n",
        "# n = 100000\n",
        "# smaller_set = train.sample(n)\n",
        "# print(smaller_set)\n",
        "# smaller_set.to_csv(URL + 'train_' +str(n) + '.csv', index=False)"
      ],
      "execution_count": null,
      "outputs": []
    },
    {
      "cell_type": "code",
      "metadata": {
        "id": "axTAtsJ-184-"
      },
      "source": [
        "# lengths = df['text'].map(lambda x: len(x.split(\" \")))\n",
        "# lengths.hist()"
      ],
      "execution_count": null,
      "outputs": []
    },
    {
      "cell_type": "code",
      "metadata": {
        "id": "fwAmNXDr38-r"
      },
      "source": [
        "# classes = df['class']\n",
        "# classes.hist(bins=3)"
      ],
      "execution_count": null,
      "outputs": []
    },
    {
      "cell_type": "code",
      "metadata": {
        "colab": {
          "base_uri": "https://localhost:8080/"
        },
        "id": "q3F_qleaD76H",
        "outputId": "dba9fb59-88f1-40fe-8bf4-9571a1f5eac0"
      },
      "source": [
        "df = pd.read_csv(URL + 'train_100000.csv',  encoding = \"ISO-8859-1\", \n",
        "                 names=[\"class\", \"id\", \"date\", \"query\", \"user\", \"text\"])\n",
        "# Make train, valid and test sets\n",
        "df['class'] = df['class']/4 # Normalize classification\n",
        "\n",
        "df = df.drop(0)\n",
        "# print(df)\n",
        "\n",
        "df_train, df_test = train_test_split(\n",
        "  df,\n",
        "  test_size=0.3,\n",
        "  random_state=RANDOM_SEED\n",
        ")\n",
        "df_val, df_test = train_test_split(\n",
        "  df_test,\n",
        "  test_size=0.5,\n",
        "  random_state=RANDOM_SEED\n",
        ")\n",
        "df_train.shape, df_val.shape, df_test.shape"
      ],
      "execution_count": null,
      "outputs": [
        {
          "output_type": "execute_result",
          "data": {
            "text/plain": [
              "((70000, 6), (15000, 6), (15000, 6))"
            ]
          },
          "metadata": {
            "tags": []
          },
          "execution_count": 65
        }
      ]
    },
    {
      "cell_type": "code",
      "metadata": {
        "colab": {
          "base_uri": "https://localhost:8080/"
        },
        "id": "3Y9Zvhvf0KJO",
        "outputId": "459bdfeb-0ffe-4bfd-9a84-169a03d8439e"
      },
      "source": [
        "sample_txt = \"@Naz I can't believe you would do that to me!\"\n",
        "tokens = tokenizer.tokenize(sample_txt)\n",
        "token_ids = tokenizer.convert_tokens_to_ids(tokens)\n",
        "print(f' Sentence: {sample_txt}')\n",
        "print(f'   Tokens: {tokens}')\n",
        "print(f'Token IDs: {token_ids}')"
      ],
      "execution_count": null,
      "outputs": [
        {
          "output_type": "stream",
          "text": [
            " Sentence: @Naz I can't believe you would do that to me!\n",
            "   Tokens: ['@', 'na', '##z', 'i', 'can', \"'\", 't', 'believe', 'you', 'would', 'do', 'that', 'to', 'me', '!']\n",
            "Token IDs: [1030, 6583, 2480, 1045, 2064, 1005, 1056, 2903, 2017, 2052, 2079, 2008, 2000, 2033, 999]\n"
          ],
          "name": "stdout"
        }
      ]
    },
    {
      "cell_type": "code",
      "metadata": {
        "id": "0eXiVbc20a8R"
      },
      "source": [
        "encoding = tokenizer.encode_plus(\n",
        "  sample_txt,\n",
        "  max_length=32, # Most tweets have 10-15 words\n",
        "  truncation=True,\n",
        "  add_special_tokens=True, # Add '[CLS]' and '[SEP]'\n",
        "  return_token_type_ids=False,\n",
        "  padding='max_length',\n",
        "  return_attention_mask=True,\n",
        "  return_tensors='pt',  # Return PyTorch tensors\n",
        ")\n",
        "tokenizer.convert_ids_to_tokens(encoding['input_ids'][0])"
      ],
      "execution_count": null,
      "outputs": []
    },
    {
      "cell_type": "code",
      "metadata": {
        "id": "4Szv5rgYNM5X"
      },
      "source": [
        "class PGD(object):\n",
        "    def __init__(self, model, epsilon, alpha, device, eta=1e-3):\n",
        "        super(PGD, self).__init__()\n",
        "        self.embed_bak = {}\n",
        "        self.grad_bak = {}\n",
        "        self.model = model\n",
        "        self.epsilon = epsilon\n",
        "        self.alpha = alpha\n",
        "        self.eta = eta\n",
        "        self.device = device\n",
        "\n",
        "    def attack(self, emb_name='embeddings.', is_first_attack=False):\n",
        "        for name, param in self.model.named_parameters():\n",
        "            if param.requires_grad and emb_name in name:\n",
        "                if is_first_attack:\n",
        "                    self.embed_bak[name] = param.data.clone().to(self.device)\n",
        "                norm = torch.norm(param.grad)\n",
        "                if norm != 0 and not torch.isnan(norm):\n",
        "                    r_at = self.alpha * param.grad / norm\n",
        "                    param.data.add_(r_at)\n",
        "                    param.data = self.project(name, param.data)\n",
        "\n",
        "    def project(self, param_name, param_data):\n",
        "        r = param_data - self.embed_bak[param_name]\n",
        "        if torch.norm(r) > self.epsilon:\n",
        "            r = self.epsilon * r / torch.norm(r)\n",
        "        return self.embed_bak[param_name] + self.eta * r\n",
        "\n",
        "    def restore(self, emb_name = 'embeddings.'):\n",
        "        for name, param in self.model.named_parameters():\n",
        "            if param.requires_grad and emb_name in name:\n",
        "                assert name in self.embed_bak\n",
        "                param.data = self.embed_bak[name]\n",
        "        self.embed_bak = {}\n",
        "\n",
        "    def grad_backup(self):\n",
        "        for name, param in self.model.named_parameters():\n",
        "            if param.requires_grad:\n",
        "                self.grad_bak[name] = param.grad.clone().to(self.device)\n",
        "\n",
        "    def restore_grad(self):\n",
        "        for name, param in self.model.named_parameters():\n",
        "            if param.requires_grad:\n",
        "                assert name in self.grad_bak\n",
        "                param.grad = self.grad_bak[name]"
      ],
      "execution_count": null,
      "outputs": []
    },
    {
      "cell_type": "code",
      "metadata": {
        "id": "QU-ozwTBnJny"
      },
      "source": [
        "class BPP(object):\n",
        "    def __init__(self, model, beta, mu, device):\n",
        "        self.model = model\n",
        "        self.beta = beta\n",
        "        self.mu = mu\n",
        "        self.theta_til = {}\n",
        "        self.device = device\n",
        "        for name, param in self.model.named_parameters():\n",
        "            self.theta_til[name] = param.data.clone().to(self.device)\n",
        "\n",
        "    def theta_til_backup(self, named_parameters):\n",
        "        for name, param in named_parameters:\n",
        "            self.theta_til[name] = (1-self.beta) * param.data.clone().to(self.device) + self.beta * self.theta_til[name]\n",
        "\n",
        "    def bregman_divergence(self, batch, logits):\n",
        "        theta_prob = F.softmax(logits, dim=-1).to(self.device)\n",
        "\n",
        "        param_bak = {}\n",
        "        for name, param in self.model.named_parameters():\n",
        "            param_bak[name] = param.data.clone().to(self.device)\n",
        "            param.data = self.theta_til[name]\n",
        "\n",
        "        with torch.no_grad():\n",
        "            theta_til_prob = F.softmax(self.model(*batch), dim=-1).to(self.device)\n",
        "\n",
        "        for name, param in self.model.named_parameters():\n",
        "            param.data = param_bak[name]\n",
        "\n",
        "        bregman_divergence = F.kl_div(theta_prob.log(), theta_til_prob, reduction='batchmean').to(self.device) + \\\n",
        "            F.kl_div(theta_til_prob.log(), theta_prob, reduction='batchmean').to(self.device)\n",
        "\n",
        "        return bregman_divergence"
      ],
      "execution_count": null,
      "outputs": []
    },
    {
      "cell_type": "code",
      "metadata": {
        "id": "dAMGVfbg__4x"
      },
      "source": [
        "class TwitterDataset(Dataset):\n",
        "\n",
        "  def __init__(self, tweets, classes, tokenizer, max_len):\n",
        "    self.tweets = tweets\n",
        "    self.classes = classes\n",
        "    self.tokenizer = tokenizer\n",
        "    self.max_len = max_len\n",
        "\n",
        "  def __len__(self):\n",
        "    return len(self.tweets)\n",
        "\n",
        "  def __getitem__(self, item):\n",
        "    text = str(self.tweets[item])\n",
        "    target = self.classes[item]\n",
        "\n",
        "    encoding = tokenizer.encode_plus(\n",
        "      text,\n",
        "      max_length=self.max_len, \n",
        "      truncation=True,\n",
        "      add_special_tokens=True, # Add '[CLS]' and '[SEP]'\n",
        "      return_token_type_ids=False,\n",
        "      padding='max_length',\n",
        "      return_attention_mask=True,\n",
        "      return_tensors='pt',  # Return PyTorch tensors\n",
        "    )\n",
        "\n",
        "    return {\n",
        "      'text': text,\n",
        "      'input_ids': encoding['input_ids'].flatten(),\n",
        "      'attention_mask': encoding['attention_mask'].flatten(),\n",
        "      'target': torch.tensor(target, dtype=torch.long)\n",
        "    }"
      ],
      "execution_count": null,
      "outputs": []
    },
    {
      "cell_type": "code",
      "metadata": {
        "id": "SCqRPDGKA3bO"
      },
      "source": [
        "max_len = 32 # Most tweets have 10-15 words, max is 47\n",
        "\n",
        "train_dataset = TwitterDataset(\n",
        "    tweets=df_train[\"text\"].to_numpy(),\n",
        "    classes=df_train[\"class\"].to_numpy(),\n",
        "    tokenizer=tokenizer,\n",
        "    max_len=max_len)\n",
        "\n",
        "val_dataset = TwitterDataset(\n",
        "    tweets=df_val[\"text\"].to_numpy(),\n",
        "    classes=df_val[\"class\"].to_numpy(),\n",
        "    tokenizer=tokenizer,\n",
        "    max_len=max_len)\n",
        "\n",
        "test_dataset = TwitterDataset(\n",
        "    tweets=df_test[\"text\"].to_numpy(),\n",
        "    classes=df_test[\"class\"].to_numpy(),\n",
        "    tokenizer=tokenizer,\n",
        "    max_len=max_len)"
      ],
      "execution_count": null,
      "outputs": []
    },
    {
      "cell_type": "code",
      "metadata": {
        "id": "6HP4zyOUKLaU"
      },
      "source": [
        "class SentimentClassifier(nn.Module):\n",
        "  def __init__(self, bert_model):\n",
        "    super(SentimentClassifier, self).__init__()\n",
        "\n",
        "    self.bert = bert_model\n",
        "\n",
        "    # for param in self.bert.parameters():\n",
        "    #   param.requires_grad = False\n",
        "\n",
        "    self.drop = nn.Dropout(p=0.1)\n",
        "    self.out = nn.Linear(self.bert.config.hidden_size, 2)\n",
        "\n",
        "  def forward(self, input_ids, attention_mask):\n",
        "    _, pooled_output = self.bert(\n",
        "      input_ids=input_ids,\n",
        "      attention_mask=attention_mask\n",
        "    )\n",
        "    output = self.drop(pooled_output)\n",
        "    return self.out(output)"
      ],
      "execution_count": null,
      "outputs": []
    },
    {
      "cell_type": "code",
      "metadata": {
        "id": "BDXE0r-LNNY_"
      },
      "source": [
        "def eval_model(model, data_loader, len_data, loss_fn,v_loss, v_acc):\n",
        "  model = model.eval()\n",
        "  losses = []\n",
        "  corrects = []\n",
        "  correct_predictions = 0\n",
        "  num = 0\n",
        "  interval = np.linspace(0, len(data_loader), num=11)\n",
        "  i = 0\n",
        "\n",
        "  with torch.no_grad():\n",
        "    for batch in data_loader:\n",
        "      input_ids = batch[\"input_ids\"].to(device)\n",
        "      attention_mask = batch[\"attention_mask\"].to(device)\n",
        "      targets = batch[\"target\"].to(device)\n",
        "\n",
        "      outputs = model(input_ids=input_ids,attention_mask=attention_mask)\n",
        "      _, preds = torch.max(outputs, dim=1)\n",
        "      loss = loss_fn(outputs, targets)\n",
        "      correct = torch.sum(preds == targets)\n",
        "      corrects.append((correct/len(preds)).item())\n",
        "      correct_predictions += correct\n",
        "      losses.append(loss.item())\n",
        "\n",
        "      if num >= interval[i]:\n",
        "        v_loss.append(np.mean(losses))\n",
        "        v_acc.append(np.mean(corrects))\n",
        "        i += 1\n",
        "      num += 1\n",
        "\n",
        "  return correct_predictions.double() / len_data, np.mean(losses)"
      ],
      "execution_count": null,
      "outputs": []
    },
    {
      "cell_type": "code",
      "metadata": {
        "id": "0QGQpUSNdO-c"
      },
      "source": [
        "def train_epoch(model, train_data_loader, len_data, loss_fn, t_loss, t_acc):\n",
        "  losses = []\n",
        "  corrects = []\n",
        "  correct_predictions = 0\n",
        "  num = 0\n",
        "  interval = np.linspace(0, len(train_data_loader), num=11)\n",
        "  i = 0\n",
        "\n",
        "  for batch in train_data_loader: # Each batch in data loader\n",
        "      input_ids = batch[\"input_ids\"].to(device)\n",
        "      attention_mask = batch[\"attention_mask\"].to(device)\n",
        "      targets = batch[\"target\"].to(device)\n",
        "\n",
        "      outputs = model(input_ids=input_ids, attention_mask=attention_mask)\n",
        "      _, preds = torch.max(outputs, dim=1)\n",
        "\n",
        "      loss = loss_fn(outputs, targets)\n",
        "      correct = torch.sum(preds == targets)\n",
        "      corrects.append((correct/len(preds)).item())\n",
        "      correct_predictions += correct\n",
        "      losses.append(loss.item())\n",
        "      loss.backward()\n",
        "\n",
        "      nn.utils.clip_grad_norm_(model.parameters(), max_norm=1.0) # Clip the grad to 1\n",
        "\n",
        "      optimizer.step()\n",
        "      scheduler.step()\n",
        "      optimizer.zero_grad()\n",
        "\n",
        "      if num >= interval[i]:\n",
        "        t_loss.append(np.mean(losses))\n",
        "        t_acc.append(np.mean(corrects))\n",
        "        i += 1\n",
        "      num += 1\n",
        "\n",
        "  train_acc= correct_predictions.double() / len_data\n",
        "  train_loss = np.mean(losses)\n",
        "  return train_acc, train_loss"
      ],
      "execution_count": null,
      "outputs": []
    },
    {
      "cell_type": "code",
      "metadata": {
        "id": "r9xFhT-heC9m"
      },
      "source": [
        "def train_smart_epoch(model, train_data_loader, len_data, loss_fn, pgd, bpp, t_loss, t_acc):\n",
        "  losses = []\n",
        "  corrects = []\n",
        "  correct_predictions = 0\n",
        "  num = 0\n",
        "  interval = np.linspace(0, len(train_data_loader), num=11)\n",
        "  i = 0\n",
        "\n",
        "  for batch in train_data_loader: # Each batch in data loader\n",
        "      input_ids = batch[\"input_ids\"].to(device)\n",
        "      attention_mask = batch[\"attention_mask\"].to(device)\n",
        "      targets = batch[\"target\"].to(device)\n",
        "\n",
        "      outputs = model(input_ids=input_ids, attention_mask=attention_mask)\n",
        "      _, preds = torch.max(outputs, dim=1)\n",
        "\n",
        "      loss = loss_fn(outputs, targets)\n",
        "      correct = torch.sum(preds == targets)\n",
        "      corrects.append((correct/len(preds)).item())\n",
        "      correct_predictions += correct\n",
        "      losses.append(loss.item())\n",
        "      loss.backward(retain_graph=True)\n",
        "\n",
        "      pgd_k = 1\n",
        "\n",
        "      # PGD Adversarial Training\n",
        "      pgd.grad_backup()\n",
        "      for k in range(pgd_k):\n",
        "        pgd.attack(is_first_attack=(k == 0))\n",
        "        if k != pgd_k - 1:\n",
        "          model.zero_grad()\n",
        "        else:\n",
        "          pgd.restore_grad()\n",
        "          out_adv = model(input_ids, attention_mask)\n",
        "          loss_adv = F.cross_entropy(out_adv, targets)\n",
        "          loss_adv.backward()\n",
        "    \n",
        "      pgd.restore()\n",
        "\n",
        "      # Bregman Proximal Point Optimization\n",
        "      bregman_div = bpp.mu * bpp.bregman_divergence((input_ids, attention_mask), outputs)\n",
        "      bregman_div.backward()\n",
        "\n",
        "      nn.utils.clip_grad_norm_(model.parameters(), max_norm=1.0) # Clip the grad to 1\n",
        "\n",
        "      optimizer.step()\n",
        "      scheduler.step()\n",
        "      optimizer.zero_grad()\n",
        "\n",
        "      bpp.theta_til_backup(model.named_parameters())\n",
        "\n",
        "      if num >= interval[i]:\n",
        "        t_loss.append(np.mean(losses))\n",
        "        t_acc.append(np.mean(corrects))\n",
        "        i += 1\n",
        "      num += 1\n",
        "\n",
        "  train_acc= correct_predictions.double() / len_data\n",
        "  train_loss = np.mean(losses)\n",
        "  return train_acc, train_loss"
      ],
      "execution_count": null,
      "outputs": []
    },
    {
      "cell_type": "code",
      "metadata": {
        "id": "-8OVC_VTNlfq"
      },
      "source": [
        "def train(model,\n",
        "  train_dataset,\n",
        "  val_dataset,\n",
        "  loss_fn,\n",
        "  optimizer,\n",
        "  scheduler,\n",
        "  num_epochs,\n",
        "  batch_size,\n",
        "  pgd=None,\n",
        "  bpp=None,\n",
        "  smart=True):\n",
        "\n",
        "  train_data_loader = DataLoader(train_dataset, batch_size=batch_size)\n",
        "  val_data_loader = DataLoader(val_dataset, batch_size=batch_size)\n",
        "\n",
        "  t_loss, t_acc, v_loss, v_acc = [], [], [], []\n",
        "\n",
        "  for epoch in range(num_epochs):\n",
        "    print(f'Epoch {epoch + 1}/{num_epochs}')\n",
        "    print('-' * 10)\n",
        "    model = model.train()\n",
        "\n",
        "    if smart:\n",
        "      train_acc, train_loss = train_smart_epoch(model, train_data_loader, len(train_dataset), loss_fn, pgd, bpp, t_loss, t_acc)\n",
        "    else:\n",
        "      train_acc, train_loss = train_epoch(model, train_data_loader, len(train_dataset), loss_fn, t_loss, t_acc)\n",
        "    print(f'Train loss {train_loss} accuracy {train_acc}')\n",
        "    print(len(t_loss), len(t_acc))\n",
        "    # t_loss.append(train_loss)\n",
        "    # t_acc.append(train_acc)\n",
        "\n",
        "    val_acc, val_loss = eval_model(model, val_data_loader, len(val_dataset), loss_fn, v_loss, v_acc)\n",
        "    print(f'Val loss {val_loss} accuracy {val_acc}')\n",
        "    print(len(v_loss), len(v_acc))\n",
        "\n",
        "    # v_loss.append(val_loss)\n",
        "    # v_acc.append(val_acc)\n",
        "\n",
        "    print()\n",
        "  return t_loss, t_acc, v_loss, v_acc"
      ],
      "execution_count": null,
      "outputs": []
    },
    {
      "cell_type": "code",
      "metadata": {
        "id": "CmbGjDhWzEjd"
      },
      "source": [
        "device = torch.device(\"cuda:0\")# if torch.cuda.is_available() else \"cpu\")\n",
        "model = SentimentClassifier(bert_model)\n",
        "model = model.to(device)\n",
        "epsilon = 1e-5\n",
        "alpha = 3 # 1, 3, 5\n",
        "beta = 0.99\n",
        "mu = 1\n",
        "pgd = PGD(model, epsilon, alpha, device)\n",
        "bpp = BPP(model, beta, mu, device)\n",
        "smart = False"
      ],
      "execution_count": null,
      "outputs": []
    },
    {
      "cell_type": "code",
      "metadata": {
        "id": "cediMVNGLAqO"
      },
      "source": [
        "epochs = 3 # max 6\n",
        "lr = 1e-5 # {1×10−5, 2×10−5, 3×10−5, 5×10−5}\n",
        "batch_size = 128 # {16,32,64}\n",
        "\n",
        "optimizer = optim.Adam(model.parameters(), lr=lr)\n",
        "\n",
        "train_data_loader = DataLoader(train_dataset, batch_size=batch_size)\n",
        "total_steps = len(train_data_loader) * epochs\n",
        "\n",
        "scheduler = get_linear_schedule_with_warmup(\n",
        "  optimizer,\n",
        "  num_warmup_steps=0,\n",
        "  num_training_steps=total_steps\n",
        "  )\n",
        "loss_fn = nn.CrossEntropyLoss().to(device)"
      ],
      "execution_count": null,
      "outputs": []
    },
    {
      "cell_type": "code",
      "metadata": {
        "colab": {
          "base_uri": "https://localhost:8080/"
        },
        "id": "RfpQlE5uwioQ",
        "outputId": "670dfec9-1715-4bb1-f208-a36396160e8b"
      },
      "source": [
        "if smart:\n",
        "  t_loss, t_acc, v_loss, v_acc = train(model, train_dataset, val_dataset, loss_fn, optimizer, scheduler, epochs, batch_size, pgd=pgd, bpp=bpp)\n",
        "else:\n",
        "  t_loss, t_acc, v_loss, v_acc = train(model, train_dataset, val_dataset, loss_fn, optimizer, scheduler, epochs, batch_size, smart=False)"
      ],
      "execution_count": null,
      "outputs": [
        {
          "output_type": "stream",
          "text": [
            "Epoch 1/3\n",
            "----------\n",
            "Train loss 0.32324061315281954 accuracy 0.8636857142857143\n",
            "10 10\n",
            "Val loss 0.37457853378885886 accuracy 0.8383333333333334\n",
            "10 10\n",
            "\n",
            "Epoch 2/3\n",
            "----------\n",
            "Train loss 0.2737048730608314 accuracy 0.8896714285714286\n",
            "20 20\n",
            "Val loss 0.3903566053358175 accuracy 0.8358666666666668\n",
            "20 20\n",
            "\n",
            "Epoch 3/3\n",
            "----------\n",
            "Train loss 0.24534079296279432 accuracy 0.9036714285714286\n",
            "30 30\n",
            "Val loss 0.4151996905773373 accuracy 0.8361333333333334\n",
            "30 30\n",
            "\n"
          ],
          "name": "stdout"
        }
      ]
    },
    {
      "cell_type": "code",
      "metadata": {
        "id": "p4Ael4feoYxx"
      },
      "source": [
        "# torch.save(model.state_dict(), URL + 'SMART.pt')"
      ],
      "execution_count": null,
      "outputs": []
    },
    {
      "cell_type": "code",
      "metadata": {
        "id": "tXVE4mG20yGE",
        "colab": {
          "base_uri": "https://localhost:8080/",
          "height": 279
        },
        "outputId": "12f904f3-9980-4c8c-c030-dd85743842d3"
      },
      "source": [
        "eps = range(epochs * 10)\n",
        "\n",
        "plt.plot(eps, t_loss, label=\"train\")\n",
        "plt.plot(eps, v_loss, label=\"valid\")\n",
        "plt.xlabel(\"Epochs\")\n",
        "plt.ylabel(\"Loss\")\n",
        "plt.legend()\n",
        "plt.show()"
      ],
      "execution_count": null,
      "outputs": [
        {
          "output_type": "display_data",
          "data": {
            "image/png": "[encoded data removed]",
            "text/plain": [
              "<Figure size 432x288 with 1 Axes>"
            ]
          },
          "metadata": {
            "tags": [],
            "needs_background": "light"
          }
        }
      ]
    },
    {
      "cell_type": "code",
      "metadata": {
        "id": "ce4_V9qH12yE",
        "colab": {
          "base_uri": "https://localhost:8080/",
          "height": 279
        },
        "outputId": "155efebe-b0e8-4649-bc07-dc766552bff8"
      },
      "source": [
        "eps = range(epochs * 10)\n",
        "\n",
        "plt.plot(eps, t_acc, label=\"train\")\n",
        "plt.plot(eps, v_acc, label=\"valid\")\n",
        "plt.xlabel(\"Epochs\")\n",
        "plt.ylabel(\"Accuracy\")\n",
        "plt.legend()\n",
        "\n",
        "plt.show()"
      ],
      "execution_count": null,
      "outputs": [
        {
          "output_type": "display_data",
          "data": {
            "image/png": "[encoded data removed]",
            "text/plain": [
              "<Figure size 432x288 with 1 Axes>"
            ]
          },
          "metadata": {
            "tags": [],
            "needs_background": "light"
          }
        }
      ]
    },
    {
      "cell_type": "markdown",
      "metadata": {
        "id": "bhNcOnDT28J1"
      },
      "source": [
        "Notes:\n",
        "\n",
        "Without Adv, val acc ~79.9%, train acc ~95%\n",
        "\n",
        "With Adv, val acc ~ 83.8%, train acc ~85.9% <- after 2 epochs"
      ]
    },
    {
      "cell_type": "code",
      "metadata": {
        "id": "wt1UHBFJxlVZ",
        "colab": {
          "base_uri": "https://localhost:8080/"
        },
        "outputId": "441199bd-37ea-4bfa-b0ea-f87fabd80105"
      },
      "source": [
        "test_data_loader = DataLoader(test_dataset, batch_size=batch_size, shuffle=True)\n",
        "test_acc, test_loss = eval_model(model, test_data_loader, len(test_dataset), loss_fn, [], [])\n",
        "print(f'Test loss {test_loss} accuracy {test_acc}')"
      ],
      "execution_count": null,
      "outputs": [
        {
          "output_type": "stream",
          "text": [
            "Test loss 0.4198757095609681 accuracy 0.8322\n"
          ],
          "name": "stdout"
        }
      ]
    },
    {
      "cell_type": "code",
      "metadata": {
        "id": "keTufS_8lB4U"
      },
      "source": [
        "for e = 1...EPOCHS:\n",
        "   for inputs, targets in BATCH:\n",
        "\n",
        "      logits = SentimentClassifier(inputs)\n",
        "      loss = CrossEntropyLoss(logits, targets)\n",
        "\n",
        "      ~inputs = Adversarial(inputs)\n",
        "      ~logits = SentimentClassifier(~inputs)\n",
        "      ~loss = CrossEntropyLoss( ~logits, targets)\n",
        "\n",
        "      theta` -> AdamUpdate(loss + Lamda * ~loss)\n",
        "      theta -> u * Bregman(theta`)\n",
        "    end for\n",
        "end for\n",
        "\n",
        "return: theta"
      ],
      "execution_count": null,
      "outputs": []
    },
    {
      "cell_type": "code",
      "metadata": {
        "colab": {
          "base_uri": "https://localhost:8080/",
          "height": 197
        },
        "id": "u_vOk1w81e1M",
        "outputId": "ceb0690f-1fa3-421d-ee86-53f06df8904f"
      },
      "source": [
        "df_test.tail()"
      ],
      "execution_count": null,
      "outputs": [
        {
          "output_type": "execute_result",
          "data": {
            "text/html": [
              "<div>\n",
              "<style scoped>\n",
              "    .dataframe tbody tr th:only-of-type {\n",
              "        vertical-align: middle;\n",
              "    }\n",
              "\n",
              "    .dataframe tbody tr th {\n",
              "        vertical-align: top;\n",
              "    }\n",
              "\n",
              "    .dataframe thead th {\n",
              "        text-align: right;\n",
              "    }\n",
              "</style>\n",
              "<table border=\"1\" class=\"dataframe\">\n",
              "  <thead>\n",
              "    <tr style=\"text-align: right;\">\n",
              "      <th></th>\n",
              "      <th>class</th>\n",
              "      <th>id</th>\n",
              "      <th>date</th>\n",
              "      <th>query</th>\n",
              "      <th>user</th>\n",
              "      <th>text</th>\n",
              "    </tr>\n",
              "  </thead>\n",
              "  <tbody>\n",
              "    <tr>\n",
              "      <th>99074</th>\n",
              "      <td>0.0</td>\n",
              "      <td>2006669281</td>\n",
              "      <td>Tue Jun 02 11:30:32 PDT 2009</td>\n",
              "      <td>NO_QUERY</td>\n",
              "      <td>peacetara</td>\n",
              "      <td>@furrygirl I didn't get to see you yesterday! ...</td>\n",
              "    </tr>\n",
              "    <tr>\n",
              "      <th>67240</th>\n",
              "      <td>1.0</td>\n",
              "      <td>2071479293</td>\n",
              "      <td>Sun Jun 07 19:27:51 PDT 2009</td>\n",
              "      <td>NO_QUERY</td>\n",
              "      <td>emeraldashlee</td>\n",
              "      <td>@LpThePharaoh it wass fuuunnnn  me &amp;amp; @chan...</td>\n",
              "    </tr>\n",
              "    <tr>\n",
              "      <th>8023</th>\n",
              "      <td>1.0</td>\n",
              "      <td>1986092743</td>\n",
              "      <td>Sun May 31 18:18:39 PDT 2009</td>\n",
              "      <td>NO_QUERY</td>\n",
              "      <td>patricktimothyy</td>\n",
              "      <td>had alot of fun at the carnival  i wish it was...</td>\n",
              "    </tr>\n",
              "    <tr>\n",
              "      <th>91104</th>\n",
              "      <td>1.0</td>\n",
              "      <td>1691345726</td>\n",
              "      <td>Sun May 03 17:39:23 PDT 2009</td>\n",
              "      <td>NO_QUERY</td>\n",
              "      <td>WarrenWhitlock</td>\n",
              "      <td>@dsalzmann why would I want to be a &amp;quot;fres...</td>\n",
              "    </tr>\n",
              "    <tr>\n",
              "      <th>805</th>\n",
              "      <td>1.0</td>\n",
              "      <td>2178280549</td>\n",
              "      <td>Mon Jun 15 07:28:02 PDT 2009</td>\n",
              "      <td>NO_QUERY</td>\n",
              "      <td>EnoxiSureka</td>\n",
              "      <td>@terakopian Good to hear I'm not the only one ...</td>\n",
              "    </tr>\n",
              "  </tbody>\n",
              "</table>\n",
              "</div>"
            ],
            "text/plain": [
              "       class  ...                                               text\n",
              "99074    0.0  ...  @furrygirl I didn't get to see you yesterday! ...\n",
              "67240    1.0  ...  @LpThePharaoh it wass fuuunnnn  me &amp; @chan...\n",
              "8023     1.0  ...  had alot of fun at the carnival  i wish it was...\n",
              "91104    1.0  ...  @dsalzmann why would I want to be a &quot;fres...\n",
              "805      1.0  ...  @terakopian Good to hear I'm not the only one ...\n",
              "\n",
              "[5 rows x 6 columns]"
            ]
          },
          "metadata": {
            "tags": []
          },
          "execution_count": 98
        }
      ]
    },
    {
      "cell_type": "code",
      "metadata": {
        "colab": {
          "base_uri": "https://localhost:8080/"
        },
        "id": "cscNvgeT0rVn",
        "outputId": "65ee00d3-3141-403b-af42-5cc3b27fc95e"
      },
      "source": [
        "from transformers import pipeline\n",
        "classifier = pipeline('sentiment-analysis')\n",
        "\n",
        "correct = 0\n",
        "for index, row in df_test.iterrows():\n",
        "  score = classifier(row[\"text\"])[0][\"label\"]\n",
        "  if score == \"NEGATIVE\" and row[\"class\"] == 0:\n",
        "    correct += 1\n",
        "  elif score == \"POSITIVE\" and row[\"class\"] == 1:\n",
        "    correct += 1\n",
        "\n",
        "accuracy = correct/len(df_test)\n",
        "print(accuracy)"
      ],
      "execution_count": null,
      "outputs": [
        {
          "output_type": "stream",
          "text": [
            "0.7044666666666667\n"
          ],
          "name": "stdout"
        }
      ]
    }
  ]
}